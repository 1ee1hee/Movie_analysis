{
 "cells": [
  {
   "cell_type": "markdown",
   "metadata": {},
   "source": [
    "# 영화 관객 수 데이터를 활용한 데이터 분석\n",
    "- 감독, 이름, 상영등급, 스태프 수 등의 정보로 영화 관객 수를 예측하는 모델 개발"
   ]
  },
  {
   "cell_type": "markdown",
   "metadata": {},
   "source": [
    "## 데이터\n",
    "- title : 영화의 제목\n",
    "- distributor : 배급사\n",
    "- genre : 장르\n",
    "- release_time : 개봉일\n",
    "- time : 상영시간(분)\n",
    "- screening_rat : 상영등급\n",
    "- director : 감독이름\n",
    "- dir_prev_bfnum : 해당 감독이 이 영화를 만들기 전 제작에 참여한 영화에서의 평균 관객수(단 관객수가 알려지지 않은 영화 제외)\n",
    "- dir_prev_num : 해당 감독이 이 영화를 만들기 전 제작에 참여한 영화의 개수(단 관객수가 알려지지 않은 영화 제외)\n",
    "- num_staff : 스텝수\n",
    "- num_actor : 주연배우수\n",
    "- box_off_num : 관객수"
   ]
  },
  {
   "cell_type": "markdown",
   "metadata": {},
   "source": [
    "## 데이터 로딩"
   ]
  },
  {
   "cell_type": "code",
   "execution_count": 1,
   "metadata": {},
   "outputs": [
    {
     "name": "stdout",
     "output_type": "stream",
     "text": [
      "(600, 12) (243, 11)\n"
     ]
    }
   ],
   "source": [
    "import pandas as pd\n",
    "import numpy as np\n",
    "\n",
    "train = pd.read_csv('data/movies_train.csv')\n",
    "test = pd.read_csv('data/movies_test.csv')\n",
    "\n",
    "print(train.shape, test.shape)"
   ]
  },
  {
   "cell_type": "markdown",
   "metadata": {},
   "source": [
    "## 데이터 확인"
   ]
  },
  {
   "cell_type": "code",
   "execution_count": 2,
   "metadata": {},
   "outputs": [
    {
     "name": "stdout",
     "output_type": "stream",
     "text": [
      "title               0\n",
      "distributor         0\n",
      "genre               0\n",
      "release_time        0\n",
      "time                0\n",
      "screening_rat       0\n",
      "director            0\n",
      "dir_prev_bfnum    330\n",
      "dir_prev_num        0\n",
      "num_staff           0\n",
      "num_actor           0\n",
      "box_off_num         0\n",
      "dtype: int64\n",
      "title               0\n",
      "distributor         0\n",
      "genre               0\n",
      "release_time        0\n",
      "time                0\n",
      "screening_rat       0\n",
      "director            0\n",
      "dir_prev_bfnum    136\n",
      "dir_prev_num        0\n",
      "num_staff           0\n",
      "num_actor           0\n",
      "dtype: int64\n"
     ]
    }
   ],
   "source": [
    "# 결측값 확인\n",
    "print(train.isna().sum())\n",
    "print(test.isna().sum())\n",
    "\n",
    "##################\n",
    "# dir_prev_bfnum만 결측값 존재"
   ]
  },
  {
   "cell_type": "code",
   "execution_count": 3,
   "metadata": {},
   "outputs": [
    {
     "name": "stdout",
     "output_type": "stream",
     "text": [
      "(330, 12)\n",
      "(270,)\n",
      "count     330\n",
      "unique    270\n",
      "top       홍상수\n",
      "freq        6\n",
      "Name: director, dtype: object\n"
     ]
    }
   ],
   "source": [
    "# dir_prev_bfnum 값 확인\n",
    "df = train[train['dir_prev_bfnum'].isna()]\n",
    "print(df.shape)\n",
    "print(df['director'].unique().shape)\n",
    "print(df['director'].describe())"
   ]
  },
  {
   "cell_type": "code",
   "execution_count": 4,
   "metadata": {},
   "outputs": [
    {
     "data": {
      "text/plain": [
       "array(['조병옥', '이창재', '정성복', '변성현', '조조 히데오', '양병간', '윤학렬', '홍상수', '부지영',\n",
       "       '안국진', '동지견', '김재한', '손승웅', '류훈', '김철한', '한상희', '장진', '김규민', '최윤석',\n",
       "       '김관철', '장희선', '김조광수', '김기덕', '오멸', '최원섭', '진승현', '도창훈', '류승완',\n",
       "       '신연식', '하기호', '방형우', '김상철', '배성상', '김기영', '우민호', '최용석', '이지형',\n",
       "       '이영미', '이정범', '손석', '에밀리오 에스테베즈', '김태용', '신수원', '정연식', '지민', '한동호',\n",
       "       '방현준', '최시형', '엄태화', '연상호', '김진무', '임흥순', '신재영', '김경만', '타케 마사하루',\n",
       "       '배창호', '권혁만', '오인천', '장희철', '양우석', '이창규', '구수환', '허은희', '김석윤',\n",
       "       '고석진', '최경석', '하마구치 류스케', '홍재희', '조원희', '박형우', '곽경택', '김정환', '서호빈',\n",
       "       '박헌수', '박범훈', '박준기', '임진순', '신춘수', '조성형', '한철수', '지율스님', '문승욱',\n",
       "       '이규만', '박석영', '임성구', '박선욱', '김광식', '양윤호', '이대희', '장건재', '박상현',\n",
       "       '정지영', '문제대', '박범수', '강의석', '이종현', 'New Pistol', '박찬경', '권오광',\n",
       "       '이상호', '안재훈', '민환기', '강우석', '권우정', '노진수', '박배일', '윤태식', '구혜선',\n",
       "       '박철수', '태미 추', '김종철', '김동후', '이상우', '황철민', '김혜정', '김영진', '김명서',\n",
       "       '황욱', '민복기', '정흠문', '정용택', '장률', '지하진', '문정윤', '이숭환', '황병국', '표만석',\n",
       "       '이광호', '한창근', '임상준', '이지현', '김태균', '권칠인', '이철하', '홍리경', '김창만',\n",
       "       '임우성', '구모', '백승기', '이길보라', '김태식', '김정훈', '강훈', '전규환', '김봉곤',\n",
       "       '송정우', '이로이', '김건', '민두식', '이돈구', '노영석', '피터 레페니오티스', '민용근', '박사유',\n",
       "       '허철', '김봉은', '박미선', '노병하', '박정범', '노효두', '김대창', '조성규', '김정호',\n",
       "       '강석필', '조치언', '이정철', '박경근', '이조훈', '최위안', '이정황', '강성옥', '김병곤',\n",
       "       '김동주', '이정인', '박중구', '김달중', '신현원', '유성엽', '김성균', '이승준', '박동훈',\n",
       "       '이호재', '이정욱', '윤제균', '정하린', '황석호', '오성윤', '김곡', '손광주', '김홍선',\n",
       "       '이광국', '서동일', '이준익', '최영석', '이세일', '인진미', '김선아', '하정우', '김태일',\n",
       "       '허인무', '장태령', '이강현', '한우진', '노성수', '최필곤', '김진열', '김재환', '이전',\n",
       "       '이주형', '김지운', '공귀현', '한소준', '장유정', '태준식', '한상민', '김효정', '김경묵',\n",
       "       '김지용', '권중목', '장경수', '박성미', '이지승', '전태윤', '김정욱', '박철관', '전성우',\n",
       "       '이성수', '진광교', '이학준', '윤여창', '알버트 신', '정단우', '백동훈', '오창민', '김동원',\n",
       "       '김철민', '김성홍', '봉준호', '정호현', '김민욱', '남택수', '한지원', '민규동', '윤기형',\n",
       "       '윤성호', '김준권', '백승화', '구봉회', '이원석', '안도 마사히로', '폴 페이그', '박규택',\n",
       "       '김대성', '기대호', '이상빈', '허정', '김기훈', '임범', '신성섭', '김태곤', '조연수', '김형주',\n",
       "       '박태동', '박영균', '이홍기', '김재수', '조성희', '봉만대', '김대현', '백운학'],\n",
       "      dtype=object)"
      ]
     },
     "execution_count": 4,
     "metadata": {},
     "output_type": "execute_result"
    }
   ],
   "source": [
    "df['director'].unique()"
   ]
  },
  {
   "cell_type": "code",
   "execution_count": 5,
   "metadata": {},
   "outputs": [
    {
     "data": {
      "text/html": [
       "<div>\n",
       "<style scoped>\n",
       "    .dataframe tbody tr th:only-of-type {\n",
       "        vertical-align: middle;\n",
       "    }\n",
       "\n",
       "    .dataframe tbody tr th {\n",
       "        vertical-align: top;\n",
       "    }\n",
       "\n",
       "    .dataframe thead th {\n",
       "        text-align: right;\n",
       "    }\n",
       "</style>\n",
       "<table border=\"1\" class=\"dataframe\">\n",
       "  <thead>\n",
       "    <tr style=\"text-align: right;\">\n",
       "      <th></th>\n",
       "      <th>title</th>\n",
       "      <th>distributor</th>\n",
       "      <th>genre</th>\n",
       "      <th>release_time</th>\n",
       "      <th>time</th>\n",
       "      <th>screening_rat</th>\n",
       "      <th>director</th>\n",
       "      <th>dir_prev_bfnum</th>\n",
       "      <th>dir_prev_num</th>\n",
       "      <th>num_staff</th>\n",
       "      <th>num_actor</th>\n",
       "      <th>box_off_num</th>\n",
       "    </tr>\n",
       "  </thead>\n",
       "  <tbody>\n",
       "    <tr>\n",
       "      <th>6</th>\n",
       "      <td>길위에서</td>\n",
       "      <td>백두대간</td>\n",
       "      <td>다큐멘터리</td>\n",
       "      <td>2013-05-23</td>\n",
       "      <td>104</td>\n",
       "      <td>전체 관람가</td>\n",
       "      <td>이창재</td>\n",
       "      <td>NaN</td>\n",
       "      <td>0</td>\n",
       "      <td>32</td>\n",
       "      <td>5</td>\n",
       "      <td>53526</td>\n",
       "    </tr>\n",
       "    <tr>\n",
       "      <th>557</th>\n",
       "      <td>목숨</td>\n",
       "      <td>필라멘트 픽쳐스</td>\n",
       "      <td>다큐멘터리</td>\n",
       "      <td>2014-12-04</td>\n",
       "      <td>95</td>\n",
       "      <td>12세 관람가</td>\n",
       "      <td>이창재</td>\n",
       "      <td>NaN</td>\n",
       "      <td>0</td>\n",
       "      <td>139</td>\n",
       "      <td>4</td>\n",
       "      <td>38771</td>\n",
       "    </tr>\n",
       "  </tbody>\n",
       "</table>\n",
       "</div>"
      ],
      "text/plain": [
       "    title distributor  genre release_time  time screening_rat director  \\\n",
       "6    길위에서        백두대간  다큐멘터리   2013-05-23   104        전체 관람가      이창재   \n",
       "557    목숨    필라멘트 픽쳐스  다큐멘터리   2014-12-04    95       12세 관람가      이창재   \n",
       "\n",
       "     dir_prev_bfnum  dir_prev_num  num_staff  num_actor  box_off_num  \n",
       "6               NaN             0         32          5        53526  \n",
       "557             NaN             0        139          4        38771  "
      ]
     },
     "execution_count": 5,
     "metadata": {},
     "output_type": "execute_result"
    }
   ],
   "source": [
    "train[train['director'] == '이창재']"
   ]
  },
  {
   "cell_type": "code",
   "execution_count": 6,
   "metadata": {},
   "outputs": [
    {
     "data": {
      "text/html": [
       "<div>\n",
       "<style scoped>\n",
       "    .dataframe tbody tr th:only-of-type {\n",
       "        vertical-align: middle;\n",
       "    }\n",
       "\n",
       "    .dataframe tbody tr th {\n",
       "        vertical-align: top;\n",
       "    }\n",
       "\n",
       "    .dataframe thead th {\n",
       "        text-align: right;\n",
       "    }\n",
       "</style>\n",
       "<table border=\"1\" class=\"dataframe\">\n",
       "  <thead>\n",
       "    <tr style=\"text-align: right;\">\n",
       "      <th></th>\n",
       "      <th>time</th>\n",
       "      <th>dir_prev_bfnum</th>\n",
       "      <th>dir_prev_num</th>\n",
       "      <th>num_staff</th>\n",
       "      <th>num_actor</th>\n",
       "      <th>box_off_num</th>\n",
       "    </tr>\n",
       "  </thead>\n",
       "  <tbody>\n",
       "    <tr>\n",
       "      <th>time</th>\n",
       "      <td>1.000000</td>\n",
       "      <td>0.264675</td>\n",
       "      <td>0.306727</td>\n",
       "      <td>0.623205</td>\n",
       "      <td>0.114153</td>\n",
       "      <td>0.441452</td>\n",
       "    </tr>\n",
       "    <tr>\n",
       "      <th>dir_prev_bfnum</th>\n",
       "      <td>0.264675</td>\n",
       "      <td>1.000000</td>\n",
       "      <td>0.131822</td>\n",
       "      <td>0.323521</td>\n",
       "      <td>0.083818</td>\n",
       "      <td>0.283184</td>\n",
       "    </tr>\n",
       "    <tr>\n",
       "      <th>dir_prev_num</th>\n",
       "      <td>0.306727</td>\n",
       "      <td>0.131822</td>\n",
       "      <td>1.000000</td>\n",
       "      <td>0.450706</td>\n",
       "      <td>0.014006</td>\n",
       "      <td>0.259674</td>\n",
       "    </tr>\n",
       "    <tr>\n",
       "      <th>num_staff</th>\n",
       "      <td>0.623205</td>\n",
       "      <td>0.323521</td>\n",
       "      <td>0.450706</td>\n",
       "      <td>1.000000</td>\n",
       "      <td>0.077871</td>\n",
       "      <td>0.544265</td>\n",
       "    </tr>\n",
       "    <tr>\n",
       "      <th>num_actor</th>\n",
       "      <td>0.114153</td>\n",
       "      <td>0.083818</td>\n",
       "      <td>0.014006</td>\n",
       "      <td>0.077871</td>\n",
       "      <td>1.000000</td>\n",
       "      <td>0.111179</td>\n",
       "    </tr>\n",
       "    <tr>\n",
       "      <th>box_off_num</th>\n",
       "      <td>0.441452</td>\n",
       "      <td>0.283184</td>\n",
       "      <td>0.259674</td>\n",
       "      <td>0.544265</td>\n",
       "      <td>0.111179</td>\n",
       "      <td>1.000000</td>\n",
       "    </tr>\n",
       "  </tbody>\n",
       "</table>\n",
       "</div>"
      ],
      "text/plain": [
       "                    time  dir_prev_bfnum  dir_prev_num  num_staff  num_actor  \\\n",
       "time            1.000000        0.264675      0.306727   0.623205   0.114153   \n",
       "dir_prev_bfnum  0.264675        1.000000      0.131822   0.323521   0.083818   \n",
       "dir_prev_num    0.306727        0.131822      1.000000   0.450706   0.014006   \n",
       "num_staff       0.623205        0.323521      0.450706   1.000000   0.077871   \n",
       "num_actor       0.114153        0.083818      0.014006   0.077871   1.000000   \n",
       "box_off_num     0.441452        0.283184      0.259674   0.544265   0.111179   \n",
       "\n",
       "                box_off_num  \n",
       "time               0.441452  \n",
       "dir_prev_bfnum     0.283184  \n",
       "dir_prev_num       0.259674  \n",
       "num_staff          0.544265  \n",
       "num_actor          0.111179  \n",
       "box_off_num        1.000000  "
      ]
     },
     "execution_count": 6,
     "metadata": {},
     "output_type": "execute_result"
    }
   ],
   "source": [
    "train.corr()"
   ]
  },
  {
   "cell_type": "code",
   "execution_count": 7,
   "metadata": {},
   "outputs": [
    {
     "name": "stdout",
     "output_type": "stream",
     "text": [
      "478423.625\n"
     ]
    }
   ],
   "source": [
    "bfnum_mean = train[train['dir_prev_bfnum'].isna() == False]['dir_prev_bfnum'].mean()\n",
    "bfnum_mode = train[train['dir_prev_bfnum'].isna() == False]['dir_prev_bfnum'].mode()\n",
    "bfnum_median = train[train['dir_prev_bfnum'].isna() == False]['dir_prev_bfnum'].median()\n",
    "\n",
    "print(bfnum_median)"
   ]
  },
  {
   "cell_type": "markdown",
   "metadata": {},
   "source": [
    "## 결측값 제거 및 변수 선택"
   ]
  },
  {
   "cell_type": "code",
   "execution_count": 8,
   "metadata": {},
   "outputs": [
    {
     "name": "stdout",
     "output_type": "stream",
     "text": [
      "<class 'pandas.core.frame.DataFrame'>\n",
      "RangeIndex: 600 entries, 0 to 599\n",
      "Data columns (total 12 columns):\n",
      " #   Column          Non-Null Count  Dtype  \n",
      "---  ------          --------------  -----  \n",
      " 0   title           600 non-null    object \n",
      " 1   distributor     600 non-null    object \n",
      " 2   genre           600 non-null    object \n",
      " 3   release_time    600 non-null    object \n",
      " 4   time            600 non-null    int64  \n",
      " 5   screening_rat   600 non-null    object \n",
      " 6   director        600 non-null    object \n",
      " 7   dir_prev_bfnum  270 non-null    float64\n",
      " 8   dir_prev_num    600 non-null    int64  \n",
      " 9   num_staff       600 non-null    int64  \n",
      " 10  num_actor       600 non-null    int64  \n",
      " 11  box_off_num     600 non-null    int64  \n",
      "dtypes: float64(1), int64(5), object(6)\n",
      "memory usage: 56.4+ KB\n"
     ]
    }
   ],
   "source": [
    "train.info()"
   ]
  },
  {
   "cell_type": "code",
   "execution_count": 9,
   "metadata": {},
   "outputs": [
    {
     "name": "stdout",
     "output_type": "stream",
     "text": [
      "(600,)\n",
      "(169,)\n",
      "(12,)\n",
      "(330,)\n",
      "(4,)\n",
      "(472,)\n"
     ]
    }
   ],
   "source": [
    "# 명목형 변수\n",
    "print(train.title.unique().shape) # 제목\n",
    "print(train.distributor.unique().shape) # 배급사\n",
    "print(train.genre.unique().shape) # 장르\n",
    "print(train.release_time.unique().shape) # 개봉일\n",
    "print(train.screening_rat.unique().shape) # 상영등급\n",
    "print(train.director.unique().shape) # 감독\n",
    "\n",
    "# 감독 컬럼은 제거\n",
    "# 장르, 상영등급은 원핫 인코딩\n",
    "# 개봉일은 계절로 나누기\n",
    "# 배급사랑 감독은 라벨 인코딩(보류) "
   ]
  },
  {
   "cell_type": "code",
   "execution_count": 10,
   "metadata": {},
   "outputs": [
    {
     "data": {
      "text/html": [
       "<div>\n",
       "<style scoped>\n",
       "    .dataframe tbody tr th:only-of-type {\n",
       "        vertical-align: middle;\n",
       "    }\n",
       "\n",
       "    .dataframe tbody tr th {\n",
       "        vertical-align: top;\n",
       "    }\n",
       "\n",
       "    .dataframe thead th {\n",
       "        text-align: right;\n",
       "    }\n",
       "</style>\n",
       "<table border=\"1\" class=\"dataframe\">\n",
       "  <thead>\n",
       "    <tr style=\"text-align: right;\">\n",
       "      <th></th>\n",
       "      <th>time</th>\n",
       "      <th>dir_prev_bfnum</th>\n",
       "      <th>dir_prev_num</th>\n",
       "      <th>num_staff</th>\n",
       "      <th>num_actor</th>\n",
       "      <th>box_off_num</th>\n",
       "    </tr>\n",
       "  </thead>\n",
       "  <tbody>\n",
       "    <tr>\n",
       "      <th>count</th>\n",
       "      <td>600.000000</td>\n",
       "      <td>2.700000e+02</td>\n",
       "      <td>600.000000</td>\n",
       "      <td>600.000000</td>\n",
       "      <td>600.000000</td>\n",
       "      <td>6.000000e+02</td>\n",
       "    </tr>\n",
       "    <tr>\n",
       "      <th>mean</th>\n",
       "      <td>100.863333</td>\n",
       "      <td>1.050443e+06</td>\n",
       "      <td>0.876667</td>\n",
       "      <td>151.118333</td>\n",
       "      <td>3.706667</td>\n",
       "      <td>7.081818e+05</td>\n",
       "    </tr>\n",
       "    <tr>\n",
       "      <th>std</th>\n",
       "      <td>18.097528</td>\n",
       "      <td>1.791408e+06</td>\n",
       "      <td>1.183409</td>\n",
       "      <td>165.654671</td>\n",
       "      <td>2.446889</td>\n",
       "      <td>1.828006e+06</td>\n",
       "    </tr>\n",
       "    <tr>\n",
       "      <th>min</th>\n",
       "      <td>45.000000</td>\n",
       "      <td>1.000000e+00</td>\n",
       "      <td>0.000000</td>\n",
       "      <td>0.000000</td>\n",
       "      <td>0.000000</td>\n",
       "      <td>1.000000e+00</td>\n",
       "    </tr>\n",
       "    <tr>\n",
       "      <th>25%</th>\n",
       "      <td>89.000000</td>\n",
       "      <td>2.038000e+04</td>\n",
       "      <td>0.000000</td>\n",
       "      <td>17.000000</td>\n",
       "      <td>2.000000</td>\n",
       "      <td>1.297250e+03</td>\n",
       "    </tr>\n",
       "    <tr>\n",
       "      <th>50%</th>\n",
       "      <td>100.000000</td>\n",
       "      <td>4.784236e+05</td>\n",
       "      <td>0.000000</td>\n",
       "      <td>82.500000</td>\n",
       "      <td>3.000000</td>\n",
       "      <td>1.259100e+04</td>\n",
       "    </tr>\n",
       "    <tr>\n",
       "      <th>75%</th>\n",
       "      <td>114.000000</td>\n",
       "      <td>1.286569e+06</td>\n",
       "      <td>2.000000</td>\n",
       "      <td>264.000000</td>\n",
       "      <td>4.000000</td>\n",
       "      <td>4.798868e+05</td>\n",
       "    </tr>\n",
       "    <tr>\n",
       "      <th>max</th>\n",
       "      <td>180.000000</td>\n",
       "      <td>1.761531e+07</td>\n",
       "      <td>5.000000</td>\n",
       "      <td>869.000000</td>\n",
       "      <td>25.000000</td>\n",
       "      <td>1.426277e+07</td>\n",
       "    </tr>\n",
       "  </tbody>\n",
       "</table>\n",
       "</div>"
      ],
      "text/plain": [
       "             time  dir_prev_bfnum  dir_prev_num   num_staff   num_actor  \\\n",
       "count  600.000000    2.700000e+02    600.000000  600.000000  600.000000   \n",
       "mean   100.863333    1.050443e+06      0.876667  151.118333    3.706667   \n",
       "std     18.097528    1.791408e+06      1.183409  165.654671    2.446889   \n",
       "min     45.000000    1.000000e+00      0.000000    0.000000    0.000000   \n",
       "25%     89.000000    2.038000e+04      0.000000   17.000000    2.000000   \n",
       "50%    100.000000    4.784236e+05      0.000000   82.500000    3.000000   \n",
       "75%    114.000000    1.286569e+06      2.000000  264.000000    4.000000   \n",
       "max    180.000000    1.761531e+07      5.000000  869.000000   25.000000   \n",
       "\n",
       "        box_off_num  \n",
       "count  6.000000e+02  \n",
       "mean   7.081818e+05  \n",
       "std    1.828006e+06  \n",
       "min    1.000000e+00  \n",
       "25%    1.297250e+03  \n",
       "50%    1.259100e+04  \n",
       "75%    4.798868e+05  \n",
       "max    1.426277e+07  "
      ]
     },
     "execution_count": 10,
     "metadata": {},
     "output_type": "execute_result"
    }
   ],
   "source": [
    "train.describe()"
   ]
  },
  {
   "cell_type": "code",
   "execution_count": 11,
   "metadata": {},
   "outputs": [],
   "source": [
    "# 연속형 변수\n",
    "# dir_prev_bfnum(결측값 많음), dir_prev_num(0값(알수 없는 값)이 많음) 제거\n",
    "\n",
    "# 명목형 변수\n",
    "# 감독 컬럼은 제거\n",
    "# 장르, 상영등급은 원핫 인코딩\n",
    "# 개봉일은 계절로 나누기\n",
    "# 배급사랑 감독은 라벨 인코딩(보류) "
   ]
  },
  {
   "cell_type": "code",
   "execution_count": 12,
   "metadata": {},
   "outputs": [
    {
     "data": {
      "text/plain": [
       "Index(['title', 'distributor', 'genre', 'release_time', 'time',\n",
       "       'screening_rat', 'director', 'dir_prev_bfnum', 'dir_prev_num',\n",
       "       'num_staff', 'num_actor', 'box_off_num'],\n",
       "      dtype='object')"
      ]
     },
     "execution_count": 12,
     "metadata": {},
     "output_type": "execute_result"
    }
   ],
   "source": [
    "train.columns"
   ]
  },
  {
   "cell_type": "code",
   "execution_count": 13,
   "metadata": {},
   "outputs": [],
   "source": [
    "# 개봉일 계절로 변환\n",
    "# 개봉일의 월 추출\n",
    "train['release_time'] = pd.to_datetime(train['release_time'])\n",
    "test['release_time'] = pd.to_datetime(test['release_time'])\n",
    "\n",
    "train['month'] = train['release_time'].dt.month\n",
    "test['month'] = test['release_time'].dt.month\n",
    "# print(train.head())"
   ]
  },
  {
   "cell_type": "code",
   "execution_count": 14,
   "metadata": {},
   "outputs": [
    {
     "data": {
      "text/html": [
       "<div>\n",
       "<style scoped>\n",
       "    .dataframe tbody tr th:only-of-type {\n",
       "        vertical-align: middle;\n",
       "    }\n",
       "\n",
       "    .dataframe tbody tr th {\n",
       "        vertical-align: top;\n",
       "    }\n",
       "\n",
       "    .dataframe thead th {\n",
       "        text-align: right;\n",
       "    }\n",
       "</style>\n",
       "<table border=\"1\" class=\"dataframe\">\n",
       "  <thead>\n",
       "    <tr style=\"text-align: right;\">\n",
       "      <th></th>\n",
       "      <th>title</th>\n",
       "      <th>distributor</th>\n",
       "      <th>genre</th>\n",
       "      <th>release_time</th>\n",
       "      <th>time</th>\n",
       "      <th>screening_rat</th>\n",
       "      <th>director</th>\n",
       "      <th>dir_prev_bfnum</th>\n",
       "      <th>dir_prev_num</th>\n",
       "      <th>num_staff</th>\n",
       "      <th>num_actor</th>\n",
       "      <th>box_off_num</th>\n",
       "      <th>month</th>\n",
       "      <th>season</th>\n",
       "    </tr>\n",
       "  </thead>\n",
       "  <tbody>\n",
       "    <tr>\n",
       "      <th>0</th>\n",
       "      <td>개들의 전쟁</td>\n",
       "      <td>롯데엔터테인먼트</td>\n",
       "      <td>액션</td>\n",
       "      <td>2012-11-22</td>\n",
       "      <td>96</td>\n",
       "      <td>청소년 관람불가</td>\n",
       "      <td>조병옥</td>\n",
       "      <td>NaN</td>\n",
       "      <td>0</td>\n",
       "      <td>91</td>\n",
       "      <td>2</td>\n",
       "      <td>23398</td>\n",
       "      <td>11</td>\n",
       "      <td>겨울</td>\n",
       "    </tr>\n",
       "    <tr>\n",
       "      <th>1</th>\n",
       "      <td>내부자들</td>\n",
       "      <td>(주)쇼박스</td>\n",
       "      <td>느와르</td>\n",
       "      <td>2015-11-19</td>\n",
       "      <td>130</td>\n",
       "      <td>청소년 관람불가</td>\n",
       "      <td>우민호</td>\n",
       "      <td>1161602.50</td>\n",
       "      <td>2</td>\n",
       "      <td>387</td>\n",
       "      <td>3</td>\n",
       "      <td>7072501</td>\n",
       "      <td>11</td>\n",
       "      <td>겨울</td>\n",
       "    </tr>\n",
       "    <tr>\n",
       "      <th>2</th>\n",
       "      <td>은밀하게 위대하게</td>\n",
       "      <td>(주)쇼박스</td>\n",
       "      <td>액션</td>\n",
       "      <td>2013-06-05</td>\n",
       "      <td>123</td>\n",
       "      <td>15세 관람가</td>\n",
       "      <td>장철수</td>\n",
       "      <td>220775.25</td>\n",
       "      <td>4</td>\n",
       "      <td>343</td>\n",
       "      <td>4</td>\n",
       "      <td>6959083</td>\n",
       "      <td>6</td>\n",
       "      <td>여름</td>\n",
       "    </tr>\n",
       "    <tr>\n",
       "      <th>3</th>\n",
       "      <td>나는 공무원이다</td>\n",
       "      <td>(주)NEW</td>\n",
       "      <td>코미디</td>\n",
       "      <td>2012-07-12</td>\n",
       "      <td>101</td>\n",
       "      <td>전체 관람가</td>\n",
       "      <td>구자홍</td>\n",
       "      <td>23894.00</td>\n",
       "      <td>2</td>\n",
       "      <td>20</td>\n",
       "      <td>6</td>\n",
       "      <td>217866</td>\n",
       "      <td>7</td>\n",
       "      <td>여름</td>\n",
       "    </tr>\n",
       "    <tr>\n",
       "      <th>4</th>\n",
       "      <td>불량남녀</td>\n",
       "      <td>쇼박스(주)미디어플렉스</td>\n",
       "      <td>코미디</td>\n",
       "      <td>2010-11-04</td>\n",
       "      <td>108</td>\n",
       "      <td>15세 관람가</td>\n",
       "      <td>신근호</td>\n",
       "      <td>1.00</td>\n",
       "      <td>1</td>\n",
       "      <td>251</td>\n",
       "      <td>2</td>\n",
       "      <td>483387</td>\n",
       "      <td>11</td>\n",
       "      <td>겨울</td>\n",
       "    </tr>\n",
       "  </tbody>\n",
       "</table>\n",
       "</div>"
      ],
      "text/plain": [
       "       title   distributor genre release_time  time screening_rat director  \\\n",
       "0     개들의 전쟁      롯데엔터테인먼트    액션   2012-11-22    96      청소년 관람불가      조병옥   \n",
       "1       내부자들        (주)쇼박스   느와르   2015-11-19   130      청소년 관람불가      우민호   \n",
       "2  은밀하게 위대하게        (주)쇼박스    액션   2013-06-05   123       15세 관람가      장철수   \n",
       "3   나는 공무원이다        (주)NEW   코미디   2012-07-12   101        전체 관람가      구자홍   \n",
       "4       불량남녀  쇼박스(주)미디어플렉스   코미디   2010-11-04   108       15세 관람가      신근호   \n",
       "\n",
       "   dir_prev_bfnum  dir_prev_num  num_staff  num_actor  box_off_num  month  \\\n",
       "0             NaN             0         91          2        23398     11   \n",
       "1      1161602.50             2        387          3      7072501     11   \n",
       "2       220775.25             4        343          4      6959083      6   \n",
       "3        23894.00             2         20          6       217866      7   \n",
       "4            1.00             1        251          2       483387     11   \n",
       "\n",
       "  season  \n",
       "0     겨울  \n",
       "1     겨울  \n",
       "2     여름  \n",
       "3     여름  \n",
       "4     겨울  "
      ]
     },
     "execution_count": 14,
     "metadata": {},
     "output_type": "execute_result"
    }
   ],
   "source": [
    "# 함수로 계절 표현\n",
    "\n",
    "def season(month):\n",
    "    if month in [3, 4, 5]:\n",
    "        return '봄'\n",
    "    elif month in [6, 7, 8]:\n",
    "        return '여름'\n",
    "    elif month in [8, 9, 10]:\n",
    "        return '가을'\n",
    "    else:\n",
    "        return '겨울'\n",
    "    \n",
    "train['season'] = train['month'].apply(lambda x : season(x))\n",
    "test['season'] = test['month'].apply(lambda x : season(x))\n",
    "\n",
    "train.head()"
   ]
  },
  {
   "cell_type": "markdown",
   "metadata": {},
   "source": [
    "## 변수 구분"
   ]
  },
  {
   "cell_type": "code",
   "execution_count": 15,
   "metadata": {},
   "outputs": [
    {
     "name": "stdout",
     "output_type": "stream",
     "text": [
      "  genre screening_rat season  time  num_staff  num_actor\n",
      "0    액션      청소년 관람불가     겨울    96         91          2\n",
      "1   느와르      청소년 관람불가     겨울   130        387          3\n",
      "2    액션       15세 관람가     여름   123        343          4\n",
      "3   코미디        전체 관람가     여름   101         20          6\n",
      "4   코미디       15세 관람가     겨울   108        251          2\n",
      "    genre screening_rat season  time  num_staff  num_actor\n",
      "0     느와르      청소년 관람불가     겨울   125        304          3\n",
      "1  멜로/로맨스       12세 관람가     겨울   113        275          3\n",
      "2     드라마       12세 관람가     겨울   115        419          7\n",
      "3      액션       15세 관람가     겨울   116        408          2\n",
      "4      공포       15세 관람가     겨울   110        380          1\n"
     ]
    }
   ],
   "source": [
    "DEL_COL = ['title', 'release_time', 'dir_prev_bfnum', 'dir_prev_num', 'month', 'distributor', 'director']\n",
    "COL_CAT = ['genre', 'screening_rat', 'season']\n",
    "COL_NUM = ['time', 'num_staff', 'num_actor']\n",
    "COL_Y = ['box_off_num']\n",
    "\n",
    "X_train = train[COL_CAT + COL_NUM]\n",
    "X_test = test[COL_CAT + COL_NUM]\n",
    "y_train = train[COL_Y]\n",
    "print(X_train.head())\n",
    "print(X_test.head())"
   ]
  },
  {
   "cell_type": "markdown",
   "metadata": {},
   "source": [
    "## 범주형 변수 원핫 인코딩"
   ]
  },
  {
   "cell_type": "code",
   "execution_count": 16,
   "metadata": {},
   "outputs": [],
   "source": [
    "X = pd.concat([X_train, X_test])\n",
    "\n",
    "from sklearn.preprocessing import OneHotEncoder\n",
    "ohe = OneHotEncoder(handle_unknown='ignore')\n",
    "ohe.fit(X[COL_CAT])\n",
    "X_train_res = ohe.transform(X_train[COL_CAT])\n",
    "X_test_res = ohe.transform(X_test[COL_CAT])"
   ]
  },
  {
   "cell_type": "code",
   "execution_count": 17,
   "metadata": {},
   "outputs": [
    {
     "name": "stdout",
     "output_type": "stream",
     "text": [
      "   time  num_staff  num_actor  genre_SF  genre_공포  genre_느와르  genre_다큐멘터리  \\\n",
      "0    96         91          2       0.0       0.0        0.0          0.0   \n",
      "1   130        387          3       0.0       0.0        1.0          0.0   \n",
      "2   123        343          4       0.0       0.0        0.0          0.0   \n",
      "3   101         20          6       0.0       0.0        0.0          0.0   \n",
      "4   108        251          2       0.0       0.0        0.0          0.0   \n",
      "\n",
      "   genre_드라마  genre_멜로/로맨스  genre_뮤지컬  ...  genre_액션  genre_코미디  \\\n",
      "0        0.0           0.0        0.0  ...       1.0        0.0   \n",
      "1        0.0           0.0        0.0  ...       0.0        0.0   \n",
      "2        0.0           0.0        0.0  ...       1.0        0.0   \n",
      "3        0.0           0.0        0.0  ...       0.0        1.0   \n",
      "4        0.0           0.0        0.0  ...       0.0        1.0   \n",
      "\n",
      "   screening_rat_12세 관람가  screening_rat_15세 관람가  screening_rat_전체 관람가  \\\n",
      "0                    0.0                    0.0                   0.0   \n",
      "1                    0.0                    0.0                   0.0   \n",
      "2                    0.0                    1.0                   0.0   \n",
      "3                    0.0                    0.0                   1.0   \n",
      "4                    0.0                    1.0                   0.0   \n",
      "\n",
      "   screening_rat_청소년 관람불가  season_가을  season_겨울  season_봄  season_여름  \n",
      "0                     1.0        0.0        1.0       0.0        0.0  \n",
      "1                     1.0        0.0        1.0       0.0        0.0  \n",
      "2                     0.0        0.0        0.0       0.0        1.0  \n",
      "3                     0.0        0.0        0.0       0.0        1.0  \n",
      "4                     0.0        0.0        1.0       0.0        0.0  \n",
      "\n",
      "[5 rows x 23 columns]\n"
     ]
    }
   ],
   "source": [
    "X_train_ohe = pd.DataFrame(X_train_res.todense(), columns = ohe.get_feature_names_out())\n",
    "X_test_ohe = pd.DataFrame(X_test_res.todense(), columns = ohe.get_feature_names_out())\n",
    "\n",
    "X_train = pd.concat([X_train[COL_NUM], X_train_ohe], axis = 1)\n",
    "X_test = pd.concat([X_test[COL_NUM], X_test_ohe], axis = 1)\n",
    "\n",
    "print(X_train.head())"
   ]
  },
  {
   "cell_type": "markdown",
   "metadata": {},
   "source": [
    "## 데이터 분할"
   ]
  },
  {
   "cell_type": "code",
   "execution_count": 18,
   "metadata": {},
   "outputs": [
    {
     "name": "stdout",
     "output_type": "stream",
     "text": [
      "     time  num_staff  num_actor  genre_SF  genre_공포  genre_느와르  genre_다큐멘터리  \\\n",
      "435   107        367          4       1.0       0.0        0.0          0.0   \n",
      "246    96          4         14       0.0       0.0        0.0          1.0   \n",
      "21     90        228          1       0.0       0.0        0.0          0.0   \n",
      "448    86          0          4       0.0       0.0        0.0          0.0   \n",
      "397   111        369          6       0.0       0.0        0.0          0.0   \n",
      "\n",
      "     genre_드라마  genre_멜로/로맨스  genre_뮤지컬  ...  genre_액션  genre_코미디  \\\n",
      "435        0.0           0.0        0.0  ...       0.0        0.0   \n",
      "246        0.0           0.0        0.0  ...       0.0        0.0   \n",
      "21         1.0           0.0        0.0  ...       0.0        0.0   \n",
      "448        1.0           0.0        0.0  ...       0.0        0.0   \n",
      "397        0.0           0.0        0.0  ...       0.0        1.0   \n",
      "\n",
      "     screening_rat_12세 관람가  screening_rat_15세 관람가  screening_rat_전체 관람가  \\\n",
      "435                    0.0                    1.0                   0.0   \n",
      "246                    0.0                    0.0                   1.0   \n",
      "21                     0.0                    0.0                   0.0   \n",
      "448                    0.0                    1.0                   0.0   \n",
      "397                    1.0                    0.0                   0.0   \n",
      "\n",
      "     screening_rat_청소년 관람불가  season_가을  season_겨울  season_봄  season_여름  \n",
      "435                     0.0        0.0        0.0       0.0        1.0  \n",
      "246                     0.0        0.0        1.0       0.0        0.0  \n",
      "21                      1.0        0.0        0.0       0.0        1.0  \n",
      "448                     0.0        0.0        1.0       0.0        0.0  \n",
      "397                     0.0        0.0        1.0       0.0        0.0  \n",
      "\n",
      "[5 rows x 23 columns]\n",
      "(420, 23) (180, 23)\n"
     ]
    }
   ],
   "source": [
    "from sklearn.model_selection import train_test_split\n",
    "\n",
    "X_tr, X_val, y_tr, y_val = train_test_split(X_train, y_train.values.ravel(), test_size = 0.3)\n",
    "\n",
    "print(X_tr.head())\n",
    "print(X_tr.shape, X_val.shape)"
   ]
  },
  {
   "cell_type": "markdown",
   "metadata": {},
   "source": [
    "## 데이터 스케일링 및 인코딩\n",
    "- 수치형 변수는 스케일링 필요"
   ]
  },
  {
   "cell_type": "code",
   "execution_count": 19,
   "metadata": {},
   "outputs": [
    {
     "data": {
      "text/html": [
       "<div>\n",
       "<style scoped>\n",
       "    .dataframe tbody tr th:only-of-type {\n",
       "        vertical-align: middle;\n",
       "    }\n",
       "\n",
       "    .dataframe tbody tr th {\n",
       "        vertical-align: top;\n",
       "    }\n",
       "\n",
       "    .dataframe thead th {\n",
       "        text-align: right;\n",
       "    }\n",
       "</style>\n",
       "<table border=\"1\" class=\"dataframe\">\n",
       "  <thead>\n",
       "    <tr style=\"text-align: right;\">\n",
       "      <th></th>\n",
       "      <th>time</th>\n",
       "      <th>num_staff</th>\n",
       "      <th>num_actor</th>\n",
       "    </tr>\n",
       "  </thead>\n",
       "  <tbody>\n",
       "    <tr>\n",
       "      <th>435</th>\n",
       "      <td>0.459259</td>\n",
       "      <td>0.422811</td>\n",
       "      <td>0.181818</td>\n",
       "    </tr>\n",
       "    <tr>\n",
       "      <th>246</th>\n",
       "      <td>0.377778</td>\n",
       "      <td>0.004608</td>\n",
       "      <td>0.636364</td>\n",
       "    </tr>\n",
       "    <tr>\n",
       "      <th>21</th>\n",
       "      <td>0.333333</td>\n",
       "      <td>0.262673</td>\n",
       "      <td>0.045455</td>\n",
       "    </tr>\n",
       "    <tr>\n",
       "      <th>448</th>\n",
       "      <td>0.303704</td>\n",
       "      <td>0.000000</td>\n",
       "      <td>0.181818</td>\n",
       "    </tr>\n",
       "    <tr>\n",
       "      <th>397</th>\n",
       "      <td>0.488889</td>\n",
       "      <td>0.425115</td>\n",
       "      <td>0.272727</td>\n",
       "    </tr>\n",
       "  </tbody>\n",
       "</table>\n",
       "</div>"
      ],
      "text/plain": [
       "         time  num_staff  num_actor\n",
       "435  0.459259   0.422811   0.181818\n",
       "246  0.377778   0.004608   0.636364\n",
       "21   0.333333   0.262673   0.045455\n",
       "448  0.303704   0.000000   0.181818\n",
       "397  0.488889   0.425115   0.272727"
      ]
     },
     "execution_count": 19,
     "metadata": {},
     "output_type": "execute_result"
    }
   ],
   "source": [
    "# 스케일링\n",
    "from sklearn.preprocessing import StandardScaler, MinMaxScaler\n",
    "\n",
    "scaler = MinMaxScaler()\n",
    "X_tr[COL_NUM] = scaler.fit_transform(X_tr[COL_NUM])\n",
    "X_val[COL_NUM] = scaler.transform(X_val[COL_NUM])\n",
    "X_test[COL_NUM] = scaler.transform(X_test[COL_NUM])\n",
    "\n",
    "X_tr[COL_NUM].head()"
   ]
  },
  {
   "cell_type": "markdown",
   "metadata": {},
   "source": [
    "## RandomForestRegressor"
   ]
  },
  {
   "cell_type": "code",
   "execution_count": 20,
   "metadata": {},
   "outputs": [],
   "source": [
    "from sklearn.ensemble import RandomForestRegressor\n",
    "\n",
    "modelRF = RandomForestRegressor()\n",
    "modelRF.fit(X_tr, y_tr)\n",
    "\n",
    "y_tr_pred = modelRF.predict(X_tr)\n",
    "y_val_pred = modelRF.predict(X_val)\n"
   ]
  },
  {
   "cell_type": "code",
   "execution_count": 21,
   "metadata": {},
   "outputs": [
    {
     "name": "stdout",
     "output_type": "stream",
     "text": [
      "MSE\n",
      "MSE(tr) :  369705023558.48395\n",
      "MSE(val) :  2522193034933.355\n",
      "========================================\n",
      "RMSE\n",
      "RMSE(tr) :  608033.7355430897\n",
      "RMSE(val) :  1588141.3775018125\n",
      "========================================\n",
      "MAE\n",
      "MAE(tr) :  257263.00919047618\n",
      "MAE(val) :  727995.5421111112\n",
      "========================================\n",
      "r2_score\n",
      "r2_score(tr) :  0.8952627367388097\n",
      "r2_score(val) :  0.12262910273278715\n",
      "========================================\n"
     ]
    }
   ],
   "source": [
    "# MSE:4.340, RMSE: 2.083, MAE: 1.617, r2: 0.949\n",
    "from sklearn.metrics import mean_squared_error, mean_absolute_error, r2_score\n",
    "\n",
    "mse_tr = mean_squared_error(y_tr, y_tr_pred)\n",
    "rmse_tr = mean_squared_error(y_tr, y_tr_pred, squared = False)\n",
    "mae_tr = mean_absolute_error(y_tr, y_tr_pred)\n",
    "r2_tr = r2_score(y_tr, y_tr_pred)\n",
    "\n",
    "mse_val = mean_squared_error(y_val, y_val_pred)\n",
    "rmse_val = mean_squared_error(y_val, y_val_pred, squared = False)\n",
    "mae_val = mean_absolute_error(y_val, y_val_pred)\n",
    "r2_val = r2_score(y_val, y_val_pred)\n",
    "\n",
    "print('MSE')\n",
    "print('MSE(tr) : ', mse_tr)\n",
    "print('MSE(val) : ', mse_val)\n",
    "print('='*40)\n",
    "print('RMSE')\n",
    "print('RMSE(tr) : ', rmse_tr)\n",
    "print('RMSE(val) : ', rmse_val)\n",
    "print('='*40)\n",
    "print('MAE')\n",
    "print('MAE(tr) : ', mae_tr)\n",
    "print('MAE(val) : ', mae_val)\n",
    "print('='*40)\n",
    "print('r2_score')\n",
    "print('r2_score(tr) : ', r2_tr)\n",
    "print('r2_score(val) : ', r2_val)\n",
    "print('='*40)\n"
   ]
  },
  {
   "cell_type": "code",
   "execution_count": 22,
   "metadata": {},
   "outputs": [
    {
     "data": {
      "text/html": [
       "<div>\n",
       "<style scoped>\n",
       "    .dataframe tbody tr th:only-of-type {\n",
       "        vertical-align: middle;\n",
       "    }\n",
       "\n",
       "    .dataframe tbody tr th {\n",
       "        vertical-align: top;\n",
       "    }\n",
       "\n",
       "    .dataframe thead th {\n",
       "        text-align: right;\n",
       "    }\n",
       "</style>\n",
       "<table border=\"1\" class=\"dataframe\">\n",
       "  <thead>\n",
       "    <tr style=\"text-align: right;\">\n",
       "      <th></th>\n",
       "      <th>feature</th>\n",
       "      <th>feature_importance</th>\n",
       "    </tr>\n",
       "  </thead>\n",
       "  <tbody>\n",
       "    <tr>\n",
       "      <th>11</th>\n",
       "      <td>genre_서스펜스</td>\n",
       "      <td>0.000000</td>\n",
       "    </tr>\n",
       "    <tr>\n",
       "      <th>9</th>\n",
       "      <td>genre_뮤지컬</td>\n",
       "      <td>0.000003</td>\n",
       "    </tr>\n",
       "    <tr>\n",
       "      <th>10</th>\n",
       "      <td>genre_미스터리</td>\n",
       "      <td>0.000078</td>\n",
       "    </tr>\n",
       "    <tr>\n",
       "      <th>6</th>\n",
       "      <td>genre_다큐멘터리</td>\n",
       "      <td>0.000100</td>\n",
       "    </tr>\n",
       "    <tr>\n",
       "      <th>12</th>\n",
       "      <td>genre_애니메이션</td>\n",
       "      <td>0.000671</td>\n",
       "    </tr>\n",
       "    <tr>\n",
       "      <th>4</th>\n",
       "      <td>genre_공포</td>\n",
       "      <td>0.000780</td>\n",
       "    </tr>\n",
       "    <tr>\n",
       "      <th>17</th>\n",
       "      <td>screening_rat_전체 관람가</td>\n",
       "      <td>0.001476</td>\n",
       "    </tr>\n",
       "    <tr>\n",
       "      <th>8</th>\n",
       "      <td>genre_멜로/로맨스</td>\n",
       "      <td>0.005261</td>\n",
       "    </tr>\n",
       "    <tr>\n",
       "      <th>15</th>\n",
       "      <td>screening_rat_12세 관람가</td>\n",
       "      <td>0.007608</td>\n",
       "    </tr>\n",
       "    <tr>\n",
       "      <th>13</th>\n",
       "      <td>genre_액션</td>\n",
       "      <td>0.008364</td>\n",
       "    </tr>\n",
       "    <tr>\n",
       "      <th>21</th>\n",
       "      <td>season_봄</td>\n",
       "      <td>0.008898</td>\n",
       "    </tr>\n",
       "    <tr>\n",
       "      <th>18</th>\n",
       "      <td>screening_rat_청소년 관람불가</td>\n",
       "      <td>0.010369</td>\n",
       "    </tr>\n",
       "    <tr>\n",
       "      <th>14</th>\n",
       "      <td>genre_코미디</td>\n",
       "      <td>0.011184</td>\n",
       "    </tr>\n",
       "    <tr>\n",
       "      <th>5</th>\n",
       "      <td>genre_느와르</td>\n",
       "      <td>0.011201</td>\n",
       "    </tr>\n",
       "    <tr>\n",
       "      <th>20</th>\n",
       "      <td>season_겨울</td>\n",
       "      <td>0.015508</td>\n",
       "    </tr>\n",
       "    <tr>\n",
       "      <th>19</th>\n",
       "      <td>season_가을</td>\n",
       "      <td>0.019205</td>\n",
       "    </tr>\n",
       "    <tr>\n",
       "      <th>3</th>\n",
       "      <td>genre_SF</td>\n",
       "      <td>0.024848</td>\n",
       "    </tr>\n",
       "    <tr>\n",
       "      <th>7</th>\n",
       "      <td>genre_드라마</td>\n",
       "      <td>0.025988</td>\n",
       "    </tr>\n",
       "    <tr>\n",
       "      <th>22</th>\n",
       "      <td>season_여름</td>\n",
       "      <td>0.030787</td>\n",
       "    </tr>\n",
       "    <tr>\n",
       "      <th>16</th>\n",
       "      <td>screening_rat_15세 관람가</td>\n",
       "      <td>0.036403</td>\n",
       "    </tr>\n",
       "    <tr>\n",
       "      <th>2</th>\n",
       "      <td>num_actor</td>\n",
       "      <td>0.092820</td>\n",
       "    </tr>\n",
       "    <tr>\n",
       "      <th>1</th>\n",
       "      <td>num_staff</td>\n",
       "      <td>0.270055</td>\n",
       "    </tr>\n",
       "    <tr>\n",
       "      <th>0</th>\n",
       "      <td>time</td>\n",
       "      <td>0.418393</td>\n",
       "    </tr>\n",
       "  </tbody>\n",
       "</table>\n",
       "</div>"
      ],
      "text/plain": [
       "                   feature  feature_importance\n",
       "11              genre_서스펜스            0.000000\n",
       "9                genre_뮤지컬            0.000003\n",
       "10              genre_미스터리            0.000078\n",
       "6              genre_다큐멘터리            0.000100\n",
       "12             genre_애니메이션            0.000671\n",
       "4                 genre_공포            0.000780\n",
       "17    screening_rat_전체 관람가            0.001476\n",
       "8             genre_멜로/로맨스            0.005261\n",
       "15   screening_rat_12세 관람가            0.007608\n",
       "13                genre_액션            0.008364\n",
       "21                season_봄            0.008898\n",
       "18  screening_rat_청소년 관람불가            0.010369\n",
       "14               genre_코미디            0.011184\n",
       "5                genre_느와르            0.011201\n",
       "20               season_겨울            0.015508\n",
       "19               season_가을            0.019205\n",
       "3                 genre_SF            0.024848\n",
       "7                genre_드라마            0.025988\n",
       "22               season_여름            0.030787\n",
       "16   screening_rat_15세 관람가            0.036403\n",
       "2                num_actor            0.092820\n",
       "1                num_staff            0.270055\n",
       "0                     time            0.418393"
      ]
     },
     "execution_count": 22,
     "metadata": {},
     "output_type": "execute_result"
    }
   ],
   "source": [
    "importance = pd.DataFrame({'feature' : X_tr.columns, 'feature_importance' : modelRF.feature_importances_})\n",
    "importance = importance.sort_values('feature_importance')\n",
    "\n",
    "importance"
   ]
  },
  {
   "cell_type": "markdown",
   "metadata": {},
   "source": [
    "### 하이퍼파라미터 튜닝"
   ]
  },
  {
   "cell_type": "code",
   "execution_count": 23,
   "metadata": {},
   "outputs": [
    {
     "data": {
      "text/plain": [
       "GridSearchCV(cv=4, estimator=RandomForestRegressor(), n_jobs=-1,\n",
       "             param_grid={'max_depth': range(2, 11, 2),\n",
       "                         'n_estimators': range(100, 601, 50)},\n",
       "             scoring='neg_mean_squared_error')"
      ]
     },
     "execution_count": 23,
     "metadata": {},
     "output_type": "execute_result"
    }
   ],
   "source": [
    "from sklearn.model_selection import GridSearchCV\n",
    "\n",
    "params = {\n",
    "    'n_estimators' : range(100, 601, 50),\n",
    "    'max_depth' : range(2, 11, 2)\n",
    "}\n",
    "\n",
    "gs = GridSearchCV(RandomForestRegressor(),\n",
    "                        params,\n",
    "                        scoring = 'neg_mean_squared_error',\n",
    "                        cv = 4,\n",
    "                        n_jobs = -1\n",
    "                        )\n",
    "gs.fit(X_tr, y_tr)"
   ]
  },
  {
   "cell_type": "code",
   "execution_count": 24,
   "metadata": {},
   "outputs": [
    {
     "data": {
      "text/plain": [
       "{'max_depth': 2, 'n_estimators': 200}"
      ]
     },
     "execution_count": 24,
     "metadata": {},
     "output_type": "execute_result"
    }
   ],
   "source": [
    "gs.best_params_"
   ]
  },
  {
   "cell_type": "code",
   "execution_count": 25,
   "metadata": {},
   "outputs": [],
   "source": [
    "from sklearn.ensemble import RandomForestRegressor\n",
    "\n",
    "modelRF = RandomForestRegressor(n_estimators = 200, max_depth = 2)\n",
    "modelRF.fit(X_tr, y_tr)\n",
    "\n",
    "y_tr_pred = modelRF.predict(X_tr)\n",
    "y_val_pred = modelRF.predict(X_val)"
   ]
  },
  {
   "cell_type": "code",
   "execution_count": 26,
   "metadata": {},
   "outputs": [
    {
     "name": "stdout",
     "output_type": "stream",
     "text": [
      "MSE\n",
      "MSE(tr) :  1727463904805.8154\n",
      "MSE(val) :  2333127056065.561\n",
      "========================================\n",
      "RMSE\n",
      "RMSE(tr) :  1314330.2114787651\n",
      "RMSE(val) :  1527457.7100743446\n",
      "========================================\n",
      "MAE\n",
      "MAE(tr) :  590602.9917829393\n",
      "MAE(val) :  725996.6535216025\n",
      "========================================\n",
      "r2_score\n",
      "r2_score(tr) :  0.5106102696945667\n",
      "r2_score(val) :  0.18839765621954407\n",
      "========================================\n"
     ]
    }
   ],
   "source": [
    "from sklearn.metrics import mean_squared_error, mean_absolute_error, r2_score\n",
    "\n",
    "mse_tr = mean_squared_error(y_tr, y_tr_pred)\n",
    "rmse_tr = mean_squared_error(y_tr, y_tr_pred, squared = False)\n",
    "mae_tr = mean_absolute_error(y_tr, y_tr_pred)\n",
    "r2_tr = r2_score(y_tr, y_tr_pred)\n",
    "\n",
    "mse_val = mean_squared_error(y_val, y_val_pred)\n",
    "rmse_val = mean_squared_error(y_val, y_val_pred, squared = False)\n",
    "mae_val = mean_absolute_error(y_val, y_val_pred)\n",
    "r2_val = r2_score(y_val, y_val_pred)\n",
    "\n",
    "print('MSE')\n",
    "print('MSE(tr) : ', mse_tr)\n",
    "print('MSE(val) : ', mse_val)\n",
    "print('='*40)\n",
    "print('RMSE')\n",
    "print('RMSE(tr) : ', rmse_tr)\n",
    "print('RMSE(val) : ', rmse_val)\n",
    "print('='*40)\n",
    "print('MAE')\n",
    "print('MAE(tr) : ', mae_tr)\n",
    "print('MAE(val) : ', mae_val)\n",
    "print('='*40)\n",
    "print('r2_score')\n",
    "print('r2_score(tr) : ', r2_tr)\n",
    "print('r2_score(val) : ', r2_val)\n",
    "print('='*40)"
   ]
  },
  {
   "cell_type": "markdown",
   "metadata": {},
   "source": [
    "## XGBRegressor"
   ]
  },
  {
   "cell_type": "code",
   "execution_count": 28,
   "metadata": {},
   "outputs": [],
   "source": [
    "from xgboost import XGBRegressor\n",
    "\n",
    "model_xgb = XGBRegressor()\n",
    "model_xgb.fit(X_tr, y_tr)\n",
    "\n",
    "y_tr_pred_xgb = model_xgb.predict(X_tr)\n",
    "y_val_pred_xgb = model_xgb.predict(X_val)"
   ]
  },
  {
   "cell_type": "code",
   "execution_count": 29,
   "metadata": {},
   "outputs": [
    {
     "name": "stdout",
     "output_type": "stream",
     "text": [
      "MSE\n",
      "MSE(tr) :  59825314.56681081\n",
      "MSE(val) :  3848475932932.3237\n",
      "========================================\n",
      "RMSE\n",
      "RMSE(tr) :  7734.682576991173\n",
      "RMSE(val) :  1961753.2803419302\n",
      "========================================\n",
      "MAE\n",
      "MAE(tr) :  5349.935772269113\n",
      "MAE(val) :  826973.4790108575\n",
      "========================================\n",
      "r2_score\n",
      "r2_score(tr) :  0.9999830515158784\n",
      "r2_score(val) :  -0.33873210163603784\n",
      "========================================\n"
     ]
    }
   ],
   "source": [
    "from sklearn.metrics import mean_squared_error, mean_absolute_error, r2_score\n",
    "\n",
    "mse_tr = mean_squared_error(y_tr, y_tr_pred_xgb)\n",
    "rmse_tr = mean_squared_error(y_tr, y_tr_pred_xgb, squared = False)\n",
    "mae_tr = mean_absolute_error(y_tr, y_tr_pred_xgb)\n",
    "r2_tr = r2_score(y_tr, y_tr_pred_xgb)\n",
    "\n",
    "mse_val = mean_squared_error(y_val, y_val_pred_xgb)\n",
    "rmse_val = mean_squared_error(y_val, y_val_pred_xgb, squared = False)\n",
    "mae_val = mean_absolute_error(y_val, y_val_pred_xgb)\n",
    "r2_val = r2_score(y_val, y_val_pred_xgb)\n",
    "\n",
    "print('MSE')\n",
    "print('MSE(tr) : ', mse_tr)\n",
    "print('MSE(val) : ', mse_val)\n",
    "print('='*40)\n",
    "print('RMSE')\n",
    "print('RMSE(tr) : ', rmse_tr)\n",
    "print('RMSE(val) : ', rmse_val)\n",
    "print('='*40)\n",
    "print('MAE')\n",
    "print('MAE(tr) : ', mae_tr)\n",
    "print('MAE(val) : ', mae_val)\n",
    "print('='*40)\n",
    "print('r2_score')\n",
    "print('r2_score(tr) : ', r2_tr)\n",
    "print('r2_score(val) : ', r2_val)\n",
    "print('='*40)"
   ]
  },
  {
   "cell_type": "markdown",
   "metadata": {},
   "source": [
    "### 하이퍼파라미터 튜닝"
   ]
  },
  {
   "cell_type": "code",
   "execution_count": 30,
   "metadata": {},
   "outputs": [
    {
     "data": {
      "text/plain": [
       "GridSearchCV(cv=4,\n",
       "             estimator=XGBRegressor(base_score=None, booster=None,\n",
       "                                    callbacks=None, colsample_bylevel=None,\n",
       "                                    colsample_bynode=None,\n",
       "                                    colsample_bytree=None,\n",
       "                                    early_stopping_rounds=None,\n",
       "                                    enable_categorical=False, eval_metric=None,\n",
       "                                    feature_types=None, gamma=None, gpu_id=None,\n",
       "                                    grow_policy=None, importance_type=None,\n",
       "                                    interaction_constraints=None,\n",
       "                                    learning_rate=None, m...\n",
       "                                    max_cat_to_onehot=None, max_delta_step=None,\n",
       "                                    max_depth=None, max_leaves=None,\n",
       "                                    min_child_weight=None, missing=nan,\n",
       "                                    monotone_constraints=None, n_estimators=100,\n",
       "                                    n_jobs=None, num_parallel_tree=None,\n",
       "                                    predictor=None, random_state=None, ...),\n",
       "             n_jobs=-1,\n",
       "             param_grid={'learning_rate': [0.1, 0.05, 0.01, 0.005, 0.001],\n",
       "                         'max_depth': range(2, 11, 2),\n",
       "                         'n_estimators': range(100, 601, 50)})"
      ]
     },
     "execution_count": 30,
     "metadata": {},
     "output_type": "execute_result"
    }
   ],
   "source": [
    "from sklearn.model_selection import GridSearchCV\n",
    "\n",
    "params = {\n",
    "    'n_estimators' : range(100, 601, 50),\n",
    "    'max_depth' : range(2, 11, 2),\n",
    "    'learning_rate' : [0.1, 0.05, 0.01, 0.005, 0.001]\n",
    "}\n",
    "\n",
    "gs = GridSearchCV(XGBRegressor(),\n",
    "                        params,\n",
    "                        cv = 4,\n",
    "                        n_jobs = -1\n",
    "                        )\n",
    "gs.fit(X_tr, y_tr)"
   ]
  },
  {
   "cell_type": "code",
   "execution_count": 31,
   "metadata": {},
   "outputs": [
    {
     "data": {
      "text/plain": [
       "{'learning_rate': 0.005, 'max_depth': 2, 'n_estimators': 300}"
      ]
     },
     "execution_count": 31,
     "metadata": {},
     "output_type": "execute_result"
    }
   ],
   "source": [
    "gs.best_params_"
   ]
  },
  {
   "cell_type": "code",
   "execution_count": 32,
   "metadata": {},
   "outputs": [],
   "source": [
    "model_xgb = XGBRegressor(n_estimators = 300, max_depth = 2, learning_rate = 0.005)\n",
    "model_xgb.fit(X_tr, y_tr)\n",
    "\n",
    "y_tr_pred_xgb = model_xgb.predict(X_tr)\n",
    "y_val_pred_xgb = model_xgb.predict(X_val)"
   ]
  },
  {
   "cell_type": "code",
   "execution_count": 33,
   "metadata": {},
   "outputs": [
    {
     "name": "stdout",
     "output_type": "stream",
     "text": [
      "MSE\n",
      "MSE(tr) :  1831112240907.9062\n",
      "MSE(val) :  2334211884313.1963\n",
      "========================================\n",
      "RMSE\n",
      "RMSE(tr) :  1353185.9594704292\n",
      "RMSE(val) :  1527812.7778995684\n",
      "========================================\n",
      "MAE\n",
      "MAE(tr) :  543725.5032366072\n",
      "MAE(val) :  647252.8234157986\n",
      "========================================\n",
      "r2_score\n",
      "r2_score(tr) :  0.4812467437126382\n",
      "r2_score(val) :  0.1880202875091299\n",
      "========================================\n"
     ]
    }
   ],
   "source": [
    "from sklearn.metrics import mean_squared_error, mean_absolute_error, r2_score\n",
    "\n",
    "mse_tr = mean_squared_error(y_tr, y_tr_pred_xgb)\n",
    "rmse_tr = mean_squared_error(y_tr, y_tr_pred_xgb, squared = False)\n",
    "mae_tr = mean_absolute_error(y_tr, y_tr_pred_xgb)\n",
    "r2_tr = r2_score(y_tr, y_tr_pred_xgb)\n",
    "\n",
    "mse_val = mean_squared_error(y_val, y_val_pred_xgb)\n",
    "rmse_val = mean_squared_error(y_val, y_val_pred_xgb, squared = False)\n",
    "mae_val = mean_absolute_error(y_val, y_val_pred_xgb)\n",
    "r2_val = r2_score(y_val, y_val_pred_xgb)\n",
    "\n",
    "print('MSE')\n",
    "print('MSE(tr) : ', mse_tr)\n",
    "print('MSE(val) : ', mse_val)\n",
    "print('='*40)\n",
    "print('RMSE')\n",
    "print('RMSE(tr) : ', rmse_tr)\n",
    "print('RMSE(val) : ', rmse_val)\n",
    "print('='*40)\n",
    "print('MAE')\n",
    "print('MAE(tr) : ', mae_tr)\n",
    "print('MAE(val) : ', mae_val)\n",
    "print('='*40)\n",
    "print('r2_score')\n",
    "print('r2_score(tr) : ', r2_tr)\n",
    "print('r2_score(val) : ', r2_val)\n",
    "print('='*40)"
   ]
  },
  {
   "cell_type": "markdown",
   "metadata": {},
   "source": [
    "## 최종 예측"
   ]
  },
  {
   "cell_type": "code",
   "execution_count": 36,
   "metadata": {},
   "outputs": [
    {
     "name": "stdout",
     "output_type": "stream",
     "text": [
      "(243, 13)\n",
      "(243,)\n",
      "(243,)\n"
     ]
    }
   ],
   "source": [
    "y_test_pred = modelRF.predict(X_test)\n",
    "y_test_pred_xgb = model_xgb.predict(X_test)\n",
    "print(test.shape)\n",
    "print(y_test_pred.shape)\n",
    "print(y_test_pred_xgb.shape)"
   ]
  },
  {
   "cell_type": "code",
   "execution_count": 40,
   "metadata": {},
   "outputs": [],
   "source": [
    "submission = pd.read_csv('data/submission.csv')\n",
    "\n",
    "pd.DataFrame({'title' : submission.title, 'box_off_num(RF)' : y_test_pred, 'box_off_num(XGB)' : y_test_pred_xgb}).to_csv('result/submission.csv', index = False)\n",
    "pd.DataFrame({'title' : submission.title, 'box_off_num' : y_test_pred}).to_csv('result/submission_RandomForest.csv', index = False)\n",
    "pd.DataFrame({'title' : submission.title, 'box_off_num' : y_test_pred_xgb}).to_csv('result/submission_XGB.csv', index = False)"
   ]
  },
  {
   "cell_type": "code",
   "execution_count": 41,
   "metadata": {},
   "outputs": [
    {
     "data": {
      "text/html": [
       "<div>\n",
       "<style scoped>\n",
       "    .dataframe tbody tr th:only-of-type {\n",
       "        vertical-align: middle;\n",
       "    }\n",
       "\n",
       "    .dataframe tbody tr th {\n",
       "        vertical-align: top;\n",
       "    }\n",
       "\n",
       "    .dataframe thead th {\n",
       "        text-align: right;\n",
       "    }\n",
       "</style>\n",
       "<table border=\"1\" class=\"dataframe\">\n",
       "  <thead>\n",
       "    <tr style=\"text-align: right;\">\n",
       "      <th></th>\n",
       "      <th>title</th>\n",
       "      <th>box_off_num(RF)</th>\n",
       "      <th>box_off_num(XGB)</th>\n",
       "    </tr>\n",
       "  </thead>\n",
       "  <tbody>\n",
       "    <tr>\n",
       "      <th>0</th>\n",
       "      <td>용서는 없다</td>\n",
       "      <td>3.394953e+06</td>\n",
       "      <td>2906236.200</td>\n",
       "    </tr>\n",
       "    <tr>\n",
       "      <th>1</th>\n",
       "      <td>아빠가 여자를 좋아해</td>\n",
       "      <td>1.020210e+06</td>\n",
       "      <td>722972.800</td>\n",
       "    </tr>\n",
       "    <tr>\n",
       "      <th>2</th>\n",
       "      <td>하모니</td>\n",
       "      <td>1.077590e+06</td>\n",
       "      <td>808678.250</td>\n",
       "    </tr>\n",
       "    <tr>\n",
       "      <th>3</th>\n",
       "      <td>의형제</td>\n",
       "      <td>1.077590e+06</td>\n",
       "      <td>808678.250</td>\n",
       "    </tr>\n",
       "    <tr>\n",
       "      <th>4</th>\n",
       "      <td>평행 이론</td>\n",
       "      <td>1.060314e+06</td>\n",
       "      <td>808678.250</td>\n",
       "    </tr>\n",
       "    <tr>\n",
       "      <th>...</th>\n",
       "      <td>...</td>\n",
       "      <td>...</td>\n",
       "      <td>...</td>\n",
       "    </tr>\n",
       "    <tr>\n",
       "      <th>238</th>\n",
       "      <td>해에게서 소년에게</td>\n",
       "      <td>9.004940e+04</td>\n",
       "      <td>62935.680</td>\n",
       "    </tr>\n",
       "    <tr>\n",
       "      <th>239</th>\n",
       "      <td>울보 권투부</td>\n",
       "      <td>9.004940e+04</td>\n",
       "      <td>62935.680</td>\n",
       "    </tr>\n",
       "    <tr>\n",
       "      <th>240</th>\n",
       "      <td>어떤살인</td>\n",
       "      <td>1.146406e+05</td>\n",
       "      <td>122958.625</td>\n",
       "    </tr>\n",
       "    <tr>\n",
       "      <th>241</th>\n",
       "      <td>말하지 못한 비밀</td>\n",
       "      <td>9.004940e+04</td>\n",
       "      <td>78492.930</td>\n",
       "    </tr>\n",
       "    <tr>\n",
       "      <th>242</th>\n",
       "      <td>조선안방 스캔들-칠거지악 2</td>\n",
       "      <td>9.004940e+04</td>\n",
       "      <td>62935.680</td>\n",
       "    </tr>\n",
       "  </tbody>\n",
       "</table>\n",
       "<p>243 rows × 3 columns</p>\n",
       "</div>"
      ],
      "text/plain": [
       "               title  box_off_num(RF)  box_off_num(XGB)\n",
       "0             용서는 없다     3.394953e+06       2906236.200\n",
       "1        아빠가 여자를 좋아해     1.020210e+06        722972.800\n",
       "2                하모니     1.077590e+06        808678.250\n",
       "3                의형제     1.077590e+06        808678.250\n",
       "4              평행 이론     1.060314e+06        808678.250\n",
       "..               ...              ...               ...\n",
       "238        해에게서 소년에게     9.004940e+04         62935.680\n",
       "239           울보 권투부     9.004940e+04         62935.680\n",
       "240             어떤살인     1.146406e+05        122958.625\n",
       "241        말하지 못한 비밀     9.004940e+04         78492.930\n",
       "242  조선안방 스캔들-칠거지악 2     9.004940e+04         62935.680\n",
       "\n",
       "[243 rows x 3 columns]"
      ]
     },
     "execution_count": 41,
     "metadata": {},
     "output_type": "execute_result"
    }
   ],
   "source": [
    "result = pd.read_csv('result/submission.csv')\n",
    "\n",
    "result"
   ]
  },
  {
   "cell_type": "code",
   "execution_count": null,
   "metadata": {},
   "outputs": [],
   "source": []
  }
 ],
 "metadata": {
  "kernelspec": {
   "display_name": "Python 3.9.13 ('base')",
   "language": "python",
   "name": "python3"
  },
  "language_info": {
   "codemirror_mode": {
    "name": "ipython",
    "version": 3
   },
   "file_extension": ".py",
   "mimetype": "text/x-python",
   "name": "python",
   "nbconvert_exporter": "python",
   "pygments_lexer": "ipython3",
   "version": "3.9.13"
  },
  "orig_nbformat": 4,
  "vscode": {
   "interpreter": {
    "hash": "57bc2b6ce032b5f0e93daa91901b7ea38a856826ef43aa9e95b6d3999f5310df"
   }
  }
 },
 "nbformat": 4,
 "nbformat_minor": 2
}
